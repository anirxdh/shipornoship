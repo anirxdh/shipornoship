{
  "nbformat": 4,
  "nbformat_minor": 0,
  "metadata": {
    "colab": {
      "name": "NavyVesselDetection.ipynb",
      "provenance": [],
      "collapsed_sections": []
    },
    "kernelspec": {
      "name": "python3",
      "display_name": "Python 3"
    },
    "language_info": {
      "name": "python"
    },
    "accelerator": "GPU"
  },
  "cells": [
    {
      "cell_type": "code",
      "metadata": {
        "id": "X5iHeBGhsThv"
      },
      "source": [
        "import os\n",
        "import zipfile\n",
        "import random\n",
        "import shutil\n",
        "import tensorflow as tf\n",
        "\n",
        "from tensorflow.keras.optimizers import RMSprop\n",
        "from tensorflow.keras.preprocessing.image import ImageDataGenerator\n",
        "from shutil import copyfile\n",
        "from os import getcwd\n",
        "from os import listdir\n",
        "import cv2\n",
        "from tensorflow.keras.layers import Conv2D, Input, ZeroPadding2D, BatchNormalization, Activation, MaxPooling2D, Flatten, Dense\n",
        "from tensorflow.keras.models import Model, load_model\n",
        "from tensorflow.keras.callbacks import TensorBoard, ModelCheckpoint\n",
        "from sklearn.model_selection import train_test_split\n",
        "from sklearn.metrics import f1_score\n",
        "from sklearn.utils import shuffle\n",
        "import imutils\n",
        "import numpy as np\n",
        "import matplotlib.pyplot as plt\n",
        "import matplotlib.image  as mpimg"
      ],
      "execution_count": 1,
      "outputs": []
    },
    {
      "cell_type": "code",
      "metadata": {
        "id": "wEoyDwO-skL8",
        "colab": {
          "base_uri": "https://localhost:8080/"
        },
        "outputId": "d2e7b74d-3849-4e76-afed-4a008924d402"
      },
      "source": [
        "from google.colab import drive\n",
        "drive.mount('/content/drive/')\n"
      ],
      "execution_count": 2,
      "outputs": [
        {
          "output_type": "stream",
          "name": "stdout",
          "text": [
            "Mounted at /content/drive/\n"
          ]
        }
      ]
    },
    {
      "cell_type": "code",
      "metadata": {
        "id": "POKhvOhqsySV"
      },
      "source": [
        "from zipfile import ZipFile\n",
        "\n",
        "file_name = \"/content/drive/MyDrive/NavyVessel.zip\"\n",
        "\n",
        "\n",
        "with ZipFile(file_name, 'r') as zip:\n",
        "  zip.extractall()"
      ],
      "execution_count": 3,
      "outputs": []
    },
    {
      "cell_type": "markdown",
      "metadata": {
        "id": "bAekt_51t_UX"
      },
      "source": [
        "\n",
        "\n",
        "```\n",
        "# This is formatted as code\n",
        "```\n",
        "\n"
      ]
    },
    {
      "cell_type": "markdown",
      "metadata": {
        "id": "An3uRFest_Zb"
      },
      "source": [
        ""
      ]
    },
    {
      "cell_type": "code",
      "metadata": {
        "colab": {
          "base_uri": "https://localhost:8080/"
        },
        "id": "frm_qjXxszvq",
        "outputId": "f759783d-195b-4cf5-c09c-6e1579a500b1"
      },
      "source": [
        "print(len(os.listdir('/content/NavyVessel/Vessel')))\n",
        "\n",
        "print(len(os.listdir('/content/NavyVessel/No Vessel')))"
      ],
      "execution_count": 4,
      "outputs": [
        {
          "output_type": "stream",
          "name": "stdout",
          "text": [
            "74\n",
            "70\n"
          ]
        }
      ]
    },
    {
      "cell_type": "code",
      "metadata": {
        "id": "sr7CvPW0s6fu"
      },
      "source": [
        "try:\n",
        "    os.mkdir('/content/EnemyNavyVessel')\n",
        "\n",
        "    os.mkdir('/content/EnemyNavyVessel/training')\n",
        "    os.mkdir('/content/EnemyNavyVessel/testing')\n",
        "\n",
        "    os.mkdir('/content/EnemyNavyVessel/training/Ship')\n",
        "    os.mkdir('/content/EnemyNavyVessel/training/No Ship')\n",
        "\n",
        "\n",
        "    os.mkdir('/content/EnemyNavyVessel/testing/Ship')\n",
        "    os.mkdir('/content/EnemyNavyVessel/testing/No Ship')\n",
        "\n",
        "\n",
        "except OSError:\n",
        "    pass"
      ],
      "execution_count": 5,
      "outputs": []
    },
    {
      "cell_type": "code",
      "metadata": {
        "id": "Ju7yRBwftQL_"
      },
      "source": [
        "import random\n",
        "from shutil import copyfile\n",
        "\n",
        "\n",
        "def split_data(SOURCE, TRAINING, TESTING, SPLIT_SIZE):\n",
        "\n",
        "    files = []\n",
        "    for filename in os.listdir(SOURCE):\n",
        "        file = SOURCE + filename\n",
        "        if os.path.getsize(file) > 0:\n",
        "            files.append(filename)\n",
        "        else:\n",
        "            print(filename + \" is zero length, so ignoring.\")\n",
        "\n",
        "    training_length = int(len(files) * SPLIT_SIZE)\n",
        "    testing_length = int(len(files) - training_length)\n",
        "\n",
        "    shuffled_set = random.sample(files, len(files))\n",
        "    training_set = shuffled_set[0:training_length]\n",
        "    testing_set = shuffled_set[training_length:]\n",
        "\n",
        "    for filename in training_set:\n",
        "        this_file = SOURCE + filename\n",
        "        destination = TRAINING + filename\n",
        "        copyfile(this_file, destination)\n",
        "\n",
        "    for filename in testing_set:\n",
        "        this_file = SOURCE + filename\n",
        "        destination = TESTING + filename\n",
        "        copyfile(this_file, destination)\n",
        "\n",
        "\n",
        "ENEMYSHIP_SOURCE_DIR = \"/content/NavyVessel/Vessel/\"\n",
        "TRAINING_ENEMYSHIP_DIR = \"/content/EnemyNavyVessel/training/Ship/\"\n",
        "TESTING_ENEMYSHIP_DIR = \"/content/EnemyNavyVessel/testing/Ship/\"\n",
        "\n",
        "NOSHIP_SOURCE_DIR = \"/content/NavyVessel/No Vessel/\"\n",
        "TRAINING_NOSHIP_DIR = \"/content/EnemyNavyVessel/training/No Ship/\"\n",
        "TESTING_NOSHIP_DIR = \"/content/EnemyNavyVessel/testing/No Ship/\"\n",
        "\n",
        "split_size = 0.9\n",
        "\n",
        "split_data(ENEMYSHIP_SOURCE_DIR,TRAINING_ENEMYSHIP_DIR,TESTING_ENEMYSHIP_DIR, split_size)\n",
        "\n",
        "split_data(NOSHIP_SOURCE_DIR, TRAINING_NOSHIP_DIR ,TESTING_NOSHIP_DIR , split_size)"
      ],
      "execution_count": 6,
      "outputs": []
    },
    {
      "cell_type": "code",
      "metadata": {
        "colab": {
          "base_uri": "https://localhost:8080/"
        },
        "id": "EPk2IFedtXoN",
        "outputId": "84df5774-db65-401c-fe69-c2ddef6a0af3"
      },
      "source": [
        "TRAINING_DIR = \"/content/EnemyNavyVessel/training\"\n",
        "\n",
        "train_datagen = ImageDataGenerator(rescale=1./255,\n",
        "      rotation_range=40,\n",
        "      width_shift_range=0.2,\n",
        "      height_shift_range=0.2,\n",
        "      shear_range=0.2,\n",
        "      zoom_range=0.2,\n",
        "      horizontal_flip=True,\n",
        "      fill_mode='nearest')\n",
        "\n",
        "\n",
        "#  0 - 255 /255 ~ 1 Red to Violet \n",
        "\n",
        "train_generator = train_datagen.flow_from_directory(TRAINING_DIR,\n",
        "                                                    batch_size=100,\n",
        "                                                    class_mode='binary',\n",
        "                                                    target_size=(150, 150))\n",
        "\n",
        "\n",
        "\n",
        "\n",
        "VALIDATION_DIR = \"/content/EnemyNavyVessel/testing\"\n",
        "\n",
        "validation_datagen = ImageDataGenerator(rescale=1./255)\n",
        "\n",
        "validation_generator = validation_datagen.flow_from_directory(VALIDATION_DIR,\n",
        "                                                              batch_size=100,\n",
        "                                                              class_mode='binary',\n",
        "                                                              target_size=(150, 150))"
      ],
      "execution_count": 7,
      "outputs": [
        {
          "output_type": "stream",
          "name": "stdout",
          "text": [
            "Found 129 images belonging to 2 classes.\n",
            "Found 15 images belonging to 2 classes.\n"
          ]
        }
      ]
    },
    {
      "cell_type": "code",
      "metadata": {
        "colab": {
          "base_uri": "https://localhost:8080/"
        },
        "id": "AO7d3qg4tYIm",
        "outputId": "caf9e4de-4b37-4882-d174-ab5ba07b313f"
      },
      "source": [
        "model = tf.keras.models.Sequential([\n",
        "                                    \n",
        "    tf.keras.layers.Conv2D(100, (3,3), activation='relu', input_shape=(150, 150, 3)), \n",
        "    tf.keras.layers.MaxPooling2D(2,2),\n",
        "    \n",
        "    tf.keras.layers.Conv2D(100, (3,3), activation='relu'),\n",
        "    tf.keras.layers.MaxPooling2D(2,2),\n",
        "    \n",
        "    tf.keras.layers.Flatten(),\n",
        "    tf.keras.layers.Dropout(0.5), \n",
        "\n",
        "    tf.keras.layers.Dense(50, activation='relu'),\n",
        "\n",
        "    tf.keras.layers.Dense(2, activation='softmax')\n",
        "\n",
        "])\n",
        "\n",
        "print(model.summary())"
      ],
      "execution_count": 9,
      "outputs": [
        {
          "output_type": "stream",
          "name": "stdout",
          "text": [
            "Model: \"sequential\"\n",
            "_________________________________________________________________\n",
            " Layer (type)                Output Shape              Param #   \n",
            "=================================================================\n",
            " conv2d (Conv2D)             (None, 148, 148, 100)     2800      \n",
            "                                                                 \n",
            " max_pooling2d (MaxPooling2D  (None, 74, 74, 100)      0         \n",
            " )                                                               \n",
            "                                                                 \n",
            " conv2d_1 (Conv2D)           (None, 72, 72, 100)       90100     \n",
            "                                                                 \n",
            " max_pooling2d_1 (MaxPooling  (None, 36, 36, 100)      0         \n",
            " 2D)                                                             \n",
            "                                                                 \n",
            " flatten (Flatten)           (None, 129600)            0         \n",
            "                                                                 \n",
            " dropout (Dropout)           (None, 129600)            0         \n",
            "                                                                 \n",
            " dense (Dense)               (None, 50)                6480050   \n",
            "                                                                 \n",
            " dense_1 (Dense)             (None, 2)                 102       \n",
            "                                                                 \n",
            "=================================================================\n",
            "Total params: 6,573,052\n",
            "Trainable params: 6,573,052\n",
            "Non-trainable params: 0\n",
            "_________________________________________________________________\n",
            "None\n"
          ]
        }
      ]
    },
    {
      "cell_type": "code",
      "metadata": {
        "colab": {
          "base_uri": "https://localhost:8080/"
        },
        "id": "riMwxYXGtnE6",
        "outputId": "329d3920-2382-4d16-b99f-01e8df11af85"
      },
      "source": [
        "opt=tf.keras.optimizers.Adam(learning_rate=0.001)\n",
        "\n",
        "model.compile(optimizer=opt,\n",
        "              loss='sparse_categorical_crossentropy',\n",
        "              metrics=['acc'])\n",
        "\n",
        "\n",
        "history = model.fit(\n",
        "            train_generator,\n",
        "            validation_data=validation_generator,\n",
        "            epochs=50,\n",
        "            verbose=1)\n",
        "\n",
        "#1 0.1 = 0.9 ,  1 0.1 = 0,1"
      ],
      "execution_count": 10,
      "outputs": [
        {
          "output_type": "stream",
          "name": "stdout",
          "text": [
            "Epoch 1/10\n",
            "2/2 [==============================] - 15s 4s/step - loss: 11.3694 - acc: 0.4651 - val_loss: 1.9395 - val_acc: 0.5333\n",
            "Epoch 2/10\n",
            "2/2 [==============================] - 2s 712ms/step - loss: 1.7277 - acc: 0.4729 - val_loss: 0.6932 - val_acc: 0.4667\n",
            "Epoch 3/10\n",
            "2/2 [==============================] - 2s 555ms/step - loss: 0.6932 - acc: 0.4884 - val_loss: 0.6964 - val_acc: 0.4667\n",
            "Epoch 4/10\n",
            "2/2 [==============================] - 2s 564ms/step - loss: 0.6993 - acc: 0.4884 - val_loss: 0.7036 - val_acc: 0.4667\n",
            "Epoch 5/10\n",
            "2/2 [==============================] - 2s 632ms/step - loss: 0.6963 - acc: 0.4884 - val_loss: 0.6937 - val_acc: 0.4667\n",
            "Epoch 6/10\n",
            "2/2 [==============================] - 2s 2s/step - loss: 0.6962 - acc: 0.4884 - val_loss: 0.7044 - val_acc: 0.4667\n",
            "Epoch 7/10\n",
            "2/2 [==============================] - 2s 2s/step - loss: 0.6978 - acc: 0.4884 - val_loss: 0.6976 - val_acc: 0.4667\n",
            "Epoch 8/10\n",
            "2/2 [==============================] - 2s 2s/step - loss: 0.6933 - acc: 0.4884 - val_loss: 0.6933 - val_acc: 0.4667\n",
            "Epoch 9/10\n",
            "2/2 [==============================] - 2s 530ms/step - loss: 0.6932 - acc: 0.4884 - val_loss: 0.6933 - val_acc: 0.4667\n",
            "Epoch 10/10\n",
            "2/2 [==============================] - 2s 526ms/step - loss: 0.6932 - acc: 0.4884 - val_loss: 0.6933 - val_acc: 0.4667\n"
          ]
        }
      ]
    },
    {
      "cell_type": "code",
      "metadata": {
        "colab": {
          "base_uri": "https://localhost:8080/"
        },
        "id": "8fxvAdKXtqJF",
        "outputId": "49daf4ee-3ed8-495e-e120-95ff8708efb6"
      },
      "source": [
        "model.evaluate(validation_generator)"
      ],
      "execution_count": 11,
      "outputs": [
        {
          "output_type": "stream",
          "name": "stdout",
          "text": [
            "1/1 [==============================] - 0s 252ms/step - loss: 0.6933 - acc: 0.4667\n"
          ]
        },
        {
          "output_type": "execute_result",
          "data": {
            "text/plain": [
              "[0.6933467984199524, 0.46666666865348816]"
            ]
          },
          "metadata": {},
          "execution_count": 11
        }
      ]
    },
    {
      "cell_type": "code",
      "metadata": {
        "id": "zWiPdpQzxOoD"
      },
      "source": [
        ""
      ],
      "execution_count": null,
      "outputs": []
    },
    {
      "cell_type": "code",
      "metadata": {
        "id": "zdPqGQ84K8Hr"
      },
      "source": [
        "icd = train_generator.class_indices"
      ],
      "execution_count": 12,
      "outputs": []
    },
    {
      "cell_type": "code",
      "metadata": {
        "colab": {
          "base_uri": "https://localhost:8080/"
        },
        "id": "PYl_ynwLRqsg",
        "outputId": "cb08515a-e0f6-4bd2-bcb4-c600b536fb09"
      },
      "source": [
        "icd"
      ],
      "execution_count": 13,
      "outputs": [
        {
          "output_type": "execute_result",
          "data": {
            "text/plain": [
              "{'No Ship': 0, 'Ship': 1}"
            ]
          },
          "metadata": {},
          "execution_count": 13
        }
      ]
    },
    {
      "cell_type": "code",
      "metadata": {
        "id": "HosyS1kuXhVc"
      },
      "source": [
        "icd = list(icd)"
      ],
      "execution_count": 14,
      "outputs": []
    },
    {
      "cell_type": "code",
      "metadata": {
        "id": "D-0CLbFEt-RY"
      },
      "source": [
        "from keras.preprocessing.image import load_img,img_to_array\n",
        "\n",
        "dic=train_generator.class_indices\n",
        "#icd={k:v for v,k in dic.items()}\n",
        "\n",
        "def output(location):\n",
        "\n",
        "    img=load_img(location,target_size=(150,150,3))\n",
        "    img=img_to_array(img)\n",
        "\n",
        "    img=img/255\n",
        "    \n",
        "    img=np.expand_dims(img,[0])\n",
        "    \n",
        "    answer=model.predict(img)\n",
        "    ans=answer.tolist()\n",
        "    ans=list(ans)\n",
        "    for i in ans:\n",
        "      temp=i\n",
        "    ans=temp\n",
        "    probability=max(ans)\n",
        "    classes=icd[ans.index(probability)]\n",
        "\n",
        "\n",
        "\n",
        "\n",
        "    print (classes, 'With probability',probability)\n",
        "\n"
      ],
      "execution_count": 15,
      "outputs": []
    },
    {
      "cell_type": "markdown",
      "metadata": {
        "id": "XJ7BB9gHTubr"
      },
      "source": [
        ""
      ]
    },
    {
      "cell_type": "code",
      "metadata": {
        "id": "Ur5FVzc_t_0l",
        "colab": {
          "base_uri": "https://localhost:8080/",
          "height": 167
        },
        "outputId": "37e3f546-190a-4923-ba92-264061b7af04"
      },
      "source": [
        "img=\"/content/NavyVessel/No Vessel/24687d85db71f0004d916d0880e57f34.jpg\"\n",
        "s=load_img(img,target_size=(150,150,3))\n",
        "s"
      ],
      "execution_count": 16,
      "outputs": [
        {
          "output_type": "execute_result",
          "data": {
            "image/png": "[encoded data removed]",
            "text/plain": [
              "<PIL.Image.Image image mode=RGB size=150x150 at 0x7FD702ECC290>"
            ]
          },
          "metadata": {},
          "execution_count": 16
        }
      ]
    },
    {
      "cell_type": "code",
      "metadata": {
        "id": "nHWrh6_IuBUk",
        "colab": {
          "base_uri": "https://localhost:8080/"
        },
        "outputId": "05978402-0a15-4fc1-e4dd-4d3e851d4814"
      },
      "source": [
        "output(img)"
      ],
      "execution_count": 17,
      "outputs": [
        {
          "output_type": "stream",
          "name": "stdout",
          "text": [
            "No Ship With probability 0.5014649629592896\n"
          ]
        }
      ]
    },
    {
      "cell_type": "code",
      "metadata": {
        "id": "55hiQlXQYFTD"
      },
      "source": [
        "model.save('enemynavyvessel_model.h5')"
      ],
      "execution_count": null,
      "outputs": []
    },
    {
      "cell_type": "code",
      "metadata": {
        "id": "_ty8zWcwgxPP"
      },
      "source": [
        "model.save_weights(\"model1.h5\") "
      ],
      "execution_count": null,
      "outputs": []
    },
    {
      "cell_type": "code",
      "metadata": {
        "id": "cLmX8uYcnW_S",
        "colab": {
          "base_uri": "https://localhost:8080/",
          "height": 35
        },
        "outputId": "fe487fe3-180a-4d71-d8b4-4a9dfe73480b"
      },
      "source": [
        "tf.__version__\n"
      ],
      "execution_count": null,
      "outputs": [
        {
          "output_type": "execute_result",
          "data": {
            "application/vnd.google.colaboratory.intrinsic+json": {
              "type": "string"
            },
            "text/plain": [
              "'2.6.0'"
            ]
          },
          "metadata": {},
          "execution_count": 27
        }
      ]
    },
    {
      "cell_type": "code",
      "metadata": {
        "id": "1or9PJJxbpLl"
      },
      "source": [
        ""
      ],
      "execution_count": null,
      "outputs": []
    }
  ]
}